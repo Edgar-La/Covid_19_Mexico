{
 "cells": [
  {
   "cell_type": "markdown",
   "source": [],
   "metadata": {
    "collapsed": false
   },
   "id": "8d3ee8810624f24d"
  },
  {
   "cell_type": "markdown",
   "source": [
    "# Reporte de Analítica"
   ],
   "metadata": {
    "collapsed": false
   },
   "id": "d008d76d53b8b4b3"
  },
  {
   "cell_type": "markdown",
   "source": [
    "## Importar modulos"
   ],
   "metadata": {
    "collapsed": false
   },
   "id": "ad54e0addd72edab"
  },
  {
   "cell_type": "code",
   "execution_count": 90,
   "id": "initial_id",
   "metadata": {
    "collapsed": true,
    "ExecuteTime": {
     "end_time": "2024-06-03T19:09:54.964183Z",
     "start_time": "2024-06-03T19:09:54.949529Z"
    }
   },
   "outputs": [],
   "source": [
    "#import h5py\n",
    "import numpy as np\n",
    "import pandas as pd\n",
    "import matplotlib.pyplot as plt"
   ]
  },
  {
   "cell_type": "markdown",
   "source": [
    "# Recopilación de los datos"
   ],
   "metadata": {
    "collapsed": false
   },
   "id": "315acf0eb5e6343b"
  },
  {
   "cell_type": "markdown",
   "source": [
    "## Recopilar datos\n",
    "aqui debo abrir con API o algo por el estilo"
   ],
   "metadata": {
    "collapsed": false
   },
   "id": "e08d9a408ee94429"
  },
  {
   "cell_type": "markdown",
   "source": [
    "## Organizar y almacenar\n",
    "Aqui quiero usar una estructura de hdf5"
   ],
   "metadata": {
    "collapsed": false
   },
   "id": "c1cb05883275cd7"
  },
  {
   "cell_type": "code",
   "outputs": [
    {
     "data": {
      "text/plain": "      id FECHA_ARCHIVO ID_REGISTRO  ENTIDAD_UM  ENTIDAD_RES  RESULTADO  DELAY  \\\n0   9269    2020-04-12      00011f          25           25          2      0   \n1  33333    2020-04-12      00014e          14           14          2      0   \n2  35483    2020-04-12      000153           8            8          1      0   \n3   7062    2020-04-12      0001b6           9           15          1      0   \n4  23745    2020-04-12      0001c1           9            9          2      0   \n\n   ENTIDAD_REGISTRO           ENTIDAD ABR_ENT  ... OTRA_COM  CARDIOVASCULAR  \\\n0                25           Sinaloa      SL  ...        2               2   \n1                14           Jalisco      JC  ...        2               2   \n2                 8         Chihuahua      CH  ...        2               2   \n3                 9  Ciudad de Mexico      DF  ...        2               2   \n4                 9  Ciudad de Mexico      DF  ...        2               2   \n\n   OBESIDAD  RENAL_CRONICA  TABAQUISMO  OTRO_CASO  MIGRANTE PAIS_NACIONALIDAD  \\\n0         1              2           2          2        99           MÃ©xico   \n1         1              2           1         99        99           MÃ©xico   \n2         2              2           2         99        99           MÃ©xico   \n3         1              2           2         99        99           MÃ©xico   \n4         2              2           2         99        99           MÃ©xico   \n\n  PAIS_ORIGEN UCI  \n0          97  97  \n1          97   2  \n2          97   2  \n3          97  97  \n4          97  97  \n\n[5 rows x 41 columns]",
      "text/html": "<div>\n<style scoped>\n    .dataframe tbody tr th:only-of-type {\n        vertical-align: middle;\n    }\n\n    .dataframe tbody tr th {\n        vertical-align: top;\n    }\n\n    .dataframe thead th {\n        text-align: right;\n    }\n</style>\n<table border=\"1\" class=\"dataframe\">\n  <thead>\n    <tr style=\"text-align: right;\">\n      <th></th>\n      <th>id</th>\n      <th>FECHA_ARCHIVO</th>\n      <th>ID_REGISTRO</th>\n      <th>ENTIDAD_UM</th>\n      <th>ENTIDAD_RES</th>\n      <th>RESULTADO</th>\n      <th>DELAY</th>\n      <th>ENTIDAD_REGISTRO</th>\n      <th>ENTIDAD</th>\n      <th>ABR_ENT</th>\n      <th>...</th>\n      <th>OTRA_COM</th>\n      <th>CARDIOVASCULAR</th>\n      <th>OBESIDAD</th>\n      <th>RENAL_CRONICA</th>\n      <th>TABAQUISMO</th>\n      <th>OTRO_CASO</th>\n      <th>MIGRANTE</th>\n      <th>PAIS_NACIONALIDAD</th>\n      <th>PAIS_ORIGEN</th>\n      <th>UCI</th>\n    </tr>\n  </thead>\n  <tbody>\n    <tr>\n      <th>0</th>\n      <td>9269</td>\n      <td>2020-04-12</td>\n      <td>00011f</td>\n      <td>25</td>\n      <td>25</td>\n      <td>2</td>\n      <td>0</td>\n      <td>25</td>\n      <td>Sinaloa</td>\n      <td>SL</td>\n      <td>...</td>\n      <td>2</td>\n      <td>2</td>\n      <td>1</td>\n      <td>2</td>\n      <td>2</td>\n      <td>2</td>\n      <td>99</td>\n      <td>MÃ©xico</td>\n      <td>97</td>\n      <td>97</td>\n    </tr>\n    <tr>\n      <th>1</th>\n      <td>33333</td>\n      <td>2020-04-12</td>\n      <td>00014e</td>\n      <td>14</td>\n      <td>14</td>\n      <td>2</td>\n      <td>0</td>\n      <td>14</td>\n      <td>Jalisco</td>\n      <td>JC</td>\n      <td>...</td>\n      <td>2</td>\n      <td>2</td>\n      <td>1</td>\n      <td>2</td>\n      <td>1</td>\n      <td>99</td>\n      <td>99</td>\n      <td>MÃ©xico</td>\n      <td>97</td>\n      <td>2</td>\n    </tr>\n    <tr>\n      <th>2</th>\n      <td>35483</td>\n      <td>2020-04-12</td>\n      <td>000153</td>\n      <td>8</td>\n      <td>8</td>\n      <td>1</td>\n      <td>0</td>\n      <td>8</td>\n      <td>Chihuahua</td>\n      <td>CH</td>\n      <td>...</td>\n      <td>2</td>\n      <td>2</td>\n      <td>2</td>\n      <td>2</td>\n      <td>2</td>\n      <td>99</td>\n      <td>99</td>\n      <td>MÃ©xico</td>\n      <td>97</td>\n      <td>2</td>\n    </tr>\n    <tr>\n      <th>3</th>\n      <td>7062</td>\n      <td>2020-04-12</td>\n      <td>0001b6</td>\n      <td>9</td>\n      <td>15</td>\n      <td>1</td>\n      <td>0</td>\n      <td>9</td>\n      <td>Ciudad de Mexico</td>\n      <td>DF</td>\n      <td>...</td>\n      <td>2</td>\n      <td>2</td>\n      <td>1</td>\n      <td>2</td>\n      <td>2</td>\n      <td>99</td>\n      <td>99</td>\n      <td>MÃ©xico</td>\n      <td>97</td>\n      <td>97</td>\n    </tr>\n    <tr>\n      <th>4</th>\n      <td>23745</td>\n      <td>2020-04-12</td>\n      <td>0001c1</td>\n      <td>9</td>\n      <td>9</td>\n      <td>2</td>\n      <td>0</td>\n      <td>9</td>\n      <td>Ciudad de Mexico</td>\n      <td>DF</td>\n      <td>...</td>\n      <td>2</td>\n      <td>2</td>\n      <td>2</td>\n      <td>2</td>\n      <td>2</td>\n      <td>99</td>\n      <td>99</td>\n      <td>MÃ©xico</td>\n      <td>97</td>\n      <td>97</td>\n    </tr>\n  </tbody>\n</table>\n<p>5 rows × 41 columns</p>\n</div>"
     },
     "execution_count": 50,
     "metadata": {},
     "output_type": "execute_result"
    }
   ],
   "source": [
    "df = pd.read_csv('mexico_covid19.csv', encoding='utf8')\n",
    "df.head()"
   ],
   "metadata": {
    "collapsed": false,
    "ExecuteTime": {
     "end_time": "2024-06-03T18:39:42.289256Z",
     "start_time": "2024-06-03T18:39:39.978586Z"
    }
   },
   "id": "d7263920a99dcc8e",
   "execution_count": 50
  },
  {
   "cell_type": "markdown",
   "source": [
    "## Preprocesamiento\n",
    "Limpieza de datos"
   ],
   "metadata": {
    "collapsed": false
   },
   "id": "df85e957bb11b84c"
  },
  {
   "cell_type": "code",
   "outputs": [
    {
     "name": "stdout",
     "output_type": "stream",
     "text": [
      "<class 'pandas.core.frame.DataFrame'>\n",
      "RangeIndex: 263007 entries, 0 to 263006\n",
      "Data columns (total 41 columns):\n",
      " #   Column               Non-Null Count   Dtype  \n",
      "---  ------               --------------   -----  \n",
      " 0   id                   263007 non-null  int64  \n",
      " 1   FECHA_ARCHIVO        263007 non-null  object \n",
      " 2   ID_REGISTRO          263007 non-null  object \n",
      " 3   ENTIDAD_UM           263007 non-null  int64  \n",
      " 4   ENTIDAD_RES          263007 non-null  int64  \n",
      " 5   RESULTADO            263007 non-null  int64  \n",
      " 6   DELAY                263007 non-null  int64  \n",
      " 7   ENTIDAD_REGISTRO     263007 non-null  int64  \n",
      " 8   ENTIDAD              263007 non-null  object \n",
      " 9   ABR_ENT              263007 non-null  object \n",
      " 10  FECHA_ACTUALIZACION  263007 non-null  object \n",
      " 11  ORIGEN               263007 non-null  int64  \n",
      " 12  SECTOR               263007 non-null  int64  \n",
      " 13  SEXO                 263007 non-null  int64  \n",
      " 14  ENTIDAD_NAC          263007 non-null  int64  \n",
      " 15  MUNICIPIO_RES        263001 non-null  float64\n",
      " 16  TIPO_PACIENTE        263007 non-null  int64  \n",
      " 17  FECHA_INGRESO        263007 non-null  object \n",
      " 18  FECHA_SINTOMAS       263007 non-null  object \n",
      " 19  FECHA_DEF            263007 non-null  object \n",
      " 20  INTUBADO             263007 non-null  int64  \n",
      " 21  NEUMONIA             263007 non-null  int64  \n",
      " 22  EDAD                 263007 non-null  int64  \n",
      " 23  NACIONALIDAD         263007 non-null  int64  \n",
      " 24  EMBARAZO             263007 non-null  int64  \n",
      " 25  HABLA_LENGUA_INDIG   263007 non-null  int64  \n",
      " 26  DIABETES             263007 non-null  int64  \n",
      " 27  EPOC                 263007 non-null  int64  \n",
      " 28  ASMA                 263007 non-null  int64  \n",
      " 29  INMUSUPR             263007 non-null  int64  \n",
      " 30  HIPERTENSION         263007 non-null  int64  \n",
      " 31  OTRA_COM             263007 non-null  int64  \n",
      " 32  CARDIOVASCULAR       263007 non-null  int64  \n",
      " 33  OBESIDAD             263007 non-null  int64  \n",
      " 34  RENAL_CRONICA        263007 non-null  int64  \n",
      " 35  TABAQUISMO           263007 non-null  int64  \n",
      " 36  OTRO_CASO            263007 non-null  int64  \n",
      " 37  MIGRANTE             263007 non-null  int64  \n",
      " 38  PAIS_NACIONALIDAD    263007 non-null  object \n",
      " 39  PAIS_ORIGEN          263007 non-null  object \n",
      " 40  UCI                  263007 non-null  int64  \n",
      "dtypes: float64(1), int64(30), object(10)\n",
      "memory usage: 82.3+ MB\n"
     ]
    }
   ],
   "source": [
    "df.info()"
   ],
   "metadata": {
    "collapsed": false,
    "ExecuteTime": {
     "end_time": "2024-06-03T18:39:42.556542Z",
     "start_time": "2024-06-03T18:39:42.293345Z"
    }
   },
   "id": "31a2f1cfd9ad023e",
   "execution_count": 51
  },
  {
   "cell_type": "code",
   "outputs": [
    {
     "data": {
      "text/plain": "  FECHA_ARCHIVO  ENTIDAD_UM  ENTIDAD_RES  RESULTADO  DELAY  ENTIDAD_REGISTRO  \\\n0    2020-04-12          25           25          2      0                25   \n1    2020-04-12          14           14          2      0                14   \n2    2020-04-12           8            8          1      0                 8   \n3    2020-04-12           9           15          1      0                 9   \n4    2020-04-12           9            9          2      0                 9   \n\n            ENTIDAD ABR_ENT FECHA_ACTUALIZACION  ORIGEN  ...  OTRA_COM  \\\n0           Sinaloa      SL          2020-04-19       2  ...         2   \n1           Jalisco      JC          2020-04-19       1  ...         2   \n2         Chihuahua      CH          2020-04-19       1  ...         2   \n3  Ciudad de Mexico      DF          2020-04-19       2  ...         2   \n4  Ciudad de Mexico      DF          2020-04-19       1  ...         2   \n\n   CARDIOVASCULAR  OBESIDAD  RENAL_CRONICA  TABAQUISMO OTRO_CASO MIGRANTE  \\\n0               2         1              2           2         2       99   \n1               2         1              2           1        99       99   \n2               2         2              2           2        99       99   \n3               2         1              2           2        99       99   \n4               2         2              2           2        99       99   \n\n  PAIS_NACIONALIDAD  PAIS_ORIGEN  UCI  \n0           MÃ©xico           97   97  \n1           MÃ©xico           97    2  \n2           MÃ©xico           97    2  \n3           MÃ©xico           97   97  \n4           MÃ©xico           97   97  \n\n[5 rows x 39 columns]",
      "text/html": "<div>\n<style scoped>\n    .dataframe tbody tr th:only-of-type {\n        vertical-align: middle;\n    }\n\n    .dataframe tbody tr th {\n        vertical-align: top;\n    }\n\n    .dataframe thead th {\n        text-align: right;\n    }\n</style>\n<table border=\"1\" class=\"dataframe\">\n  <thead>\n    <tr style=\"text-align: right;\">\n      <th></th>\n      <th>FECHA_ARCHIVO</th>\n      <th>ENTIDAD_UM</th>\n      <th>ENTIDAD_RES</th>\n      <th>RESULTADO</th>\n      <th>DELAY</th>\n      <th>ENTIDAD_REGISTRO</th>\n      <th>ENTIDAD</th>\n      <th>ABR_ENT</th>\n      <th>FECHA_ACTUALIZACION</th>\n      <th>ORIGEN</th>\n      <th>...</th>\n      <th>OTRA_COM</th>\n      <th>CARDIOVASCULAR</th>\n      <th>OBESIDAD</th>\n      <th>RENAL_CRONICA</th>\n      <th>TABAQUISMO</th>\n      <th>OTRO_CASO</th>\n      <th>MIGRANTE</th>\n      <th>PAIS_NACIONALIDAD</th>\n      <th>PAIS_ORIGEN</th>\n      <th>UCI</th>\n    </tr>\n  </thead>\n  <tbody>\n    <tr>\n      <th>0</th>\n      <td>2020-04-12</td>\n      <td>25</td>\n      <td>25</td>\n      <td>2</td>\n      <td>0</td>\n      <td>25</td>\n      <td>Sinaloa</td>\n      <td>SL</td>\n      <td>2020-04-19</td>\n      <td>2</td>\n      <td>...</td>\n      <td>2</td>\n      <td>2</td>\n      <td>1</td>\n      <td>2</td>\n      <td>2</td>\n      <td>2</td>\n      <td>99</td>\n      <td>MÃ©xico</td>\n      <td>97</td>\n      <td>97</td>\n    </tr>\n    <tr>\n      <th>1</th>\n      <td>2020-04-12</td>\n      <td>14</td>\n      <td>14</td>\n      <td>2</td>\n      <td>0</td>\n      <td>14</td>\n      <td>Jalisco</td>\n      <td>JC</td>\n      <td>2020-04-19</td>\n      <td>1</td>\n      <td>...</td>\n      <td>2</td>\n      <td>2</td>\n      <td>1</td>\n      <td>2</td>\n      <td>1</td>\n      <td>99</td>\n      <td>99</td>\n      <td>MÃ©xico</td>\n      <td>97</td>\n      <td>2</td>\n    </tr>\n    <tr>\n      <th>2</th>\n      <td>2020-04-12</td>\n      <td>8</td>\n      <td>8</td>\n      <td>1</td>\n      <td>0</td>\n      <td>8</td>\n      <td>Chihuahua</td>\n      <td>CH</td>\n      <td>2020-04-19</td>\n      <td>1</td>\n      <td>...</td>\n      <td>2</td>\n      <td>2</td>\n      <td>2</td>\n      <td>2</td>\n      <td>2</td>\n      <td>99</td>\n      <td>99</td>\n      <td>MÃ©xico</td>\n      <td>97</td>\n      <td>2</td>\n    </tr>\n    <tr>\n      <th>3</th>\n      <td>2020-04-12</td>\n      <td>9</td>\n      <td>15</td>\n      <td>1</td>\n      <td>0</td>\n      <td>9</td>\n      <td>Ciudad de Mexico</td>\n      <td>DF</td>\n      <td>2020-04-19</td>\n      <td>2</td>\n      <td>...</td>\n      <td>2</td>\n      <td>2</td>\n      <td>1</td>\n      <td>2</td>\n      <td>2</td>\n      <td>99</td>\n      <td>99</td>\n      <td>MÃ©xico</td>\n      <td>97</td>\n      <td>97</td>\n    </tr>\n    <tr>\n      <th>4</th>\n      <td>2020-04-12</td>\n      <td>9</td>\n      <td>9</td>\n      <td>2</td>\n      <td>0</td>\n      <td>9</td>\n      <td>Ciudad de Mexico</td>\n      <td>DF</td>\n      <td>2020-04-19</td>\n      <td>1</td>\n      <td>...</td>\n      <td>2</td>\n      <td>2</td>\n      <td>2</td>\n      <td>2</td>\n      <td>2</td>\n      <td>99</td>\n      <td>99</td>\n      <td>MÃ©xico</td>\n      <td>97</td>\n      <td>97</td>\n    </tr>\n  </tbody>\n</table>\n<p>5 rows × 39 columns</p>\n</div>"
     },
     "execution_count": 53,
     "metadata": {},
     "output_type": "execute_result"
    }
   ],
   "source": [
    "df_remove_cols = df.drop(columns = ['id', 'ID_REGISTRO'], inplace=False)\n",
    "df_remove_cols.head()"
   ],
   "metadata": {
    "collapsed": false,
    "ExecuteTime": {
     "end_time": "2024-06-03T18:39:43.402345Z",
     "start_time": "2024-06-03T18:39:43.265645Z"
    }
   },
   "id": "38bdb34f85cddc2",
   "execution_count": 53
  },
  {
   "cell_type": "code",
   "outputs": [],
   "source": [
    "# The attributes in the list are object type, so we convert each into a datetime type attribute\n",
    "# FECHA_DEF cannot be coverted into datetime format becasue 9999-99-99 ins't a valid a date, so we replace it with 2200-01-01 which is  valir format and still is outlier.\n",
    "df_remove_cols['FECHA_DEF'] = df_remove_cols['FECHA_DEF'].replace('9999-99-99', '2200-01-01')\n",
    "\n",
    "\n",
    "# The attributes in the following list are object type, so we convert each into a datetime type attribute\n",
    "tipos_de_fechas = ['FECHA_ARCHIVO', 'FECHA_ACTUALIZACION', 'FECHA_INGRESO', 'FECHA_SINTOMAS', 'FECHA_DEF']\n",
    "for tipo_de_fecha in tipos_de_fechas:\n",
    "    df_remove_cols[tipo_de_fecha] = pd.to_datetime(df_remove_cols[tipo_de_fecha])"
   ],
   "metadata": {
    "collapsed": false,
    "ExecuteTime": {
     "end_time": "2024-06-03T18:39:43.872140Z",
     "start_time": "2024-06-03T18:39:43.437216Z"
    }
   },
   "id": "25eba53ddd760127",
   "execution_count": 55
  },
  {
   "cell_type": "code",
   "outputs": [
    {
     "data": {
      "text/plain": "dict_values([120, 120, 114, 113, 109, 107, 105, 101, 101, 100, 99, 99, 97, 96, 89, 89, 88, 87, 87, 85, 84, 81, 76, 75, 73, 72, 71, 70, 69, 69, 68, 67, 64, 63, 63, 61, 60, 59, 58, 57, 56, 54, 53, 52, 52, 52, 52, 49, 47, 45, 44, 44, 44, 43, 41, 41, 40, 39, 38, 38, 35, 35, 34, 32, 22, 19, 18, 16, 6, 6, 5, 4, 3, 3, 2, 1, 1, 1, 1, 1, 1, 1, 1, 1, 1, 1, 1])"
     },
     "execution_count": 92,
     "metadata": {},
     "output_type": "execute_result"
    }
   ],
   "source": [
    "fecha_def = df_remove_cols['FECHA_DEF'][df_remove_cols['FECHA_DEF'] < pd.to_datetime('2030-01-01')]\n",
    "#fecha_def.sort_values(by='FECHA_DEF')\n",
    "dict(fecha_def.value_counts()).values()"
   ],
   "metadata": {
    "collapsed": false,
    "ExecuteTime": {
     "end_time": "2024-06-03T19:27:41.843996Z",
     "start_time": "2024-06-03T19:27:41.821055Z"
    }
   },
   "id": "22130dad0db18611",
   "execution_count": 92
  },
  {
   "cell_type": "markdown",
   "source": [
    "## Guardar datos limpios en otra estructura"
   ],
   "metadata": {
    "collapsed": false
   },
   "id": "da45fd3e524c0ed3"
  },
  {
   "cell_type": "code",
   "outputs": [],
   "source": [
    "# codigo aqui"
   ],
   "metadata": {
    "collapsed": false,
    "ExecuteTime": {
     "end_time": "2024-06-03T19:04:45.175806Z",
     "start_time": "2024-06-03T19:04:45.155860Z"
    }
   },
   "id": "b22615ae0dcfee48",
   "execution_count": 87
  },
  {
   "cell_type": "markdown",
   "source": [
    "# EDA - Análisis Exploratorio de los datos"
   ],
   "metadata": {
    "collapsed": false
   },
   "id": "579028d623c3c4fb"
  },
  {
   "cell_type": "markdown",
   "source": [
    "## Resumen estadística\n",
    "Calcular estadística descriptiva -> promedio, media, desviación estándar, mínimo, máximo, percentiles, etc."
   ],
   "metadata": {
    "collapsed": false
   },
   "id": "ce507eea311cf452"
  },
  {
   "cell_type": "code",
   "outputs": [
    {
     "data": {
      "text/plain": "                 id     ENTIDAD_UM    ENTIDAD_RES      RESULTADO     DELAY  \\\ncount  2.630070e+05  263007.000000  263007.000000  263007.000000  263007.0   \nmean   2.946176e+06      14.844601      15.127719       1.609672       0.0   \nstd    2.212368e+06       8.001043       7.904314       0.487825       0.0   \nmin    1.000000e+00       1.000000       1.000000       1.000000       0.0   \n25%    8.689635e+05       9.000000       9.000000       1.000000       0.0   \n50%    2.733242e+06      14.000000      15.000000       2.000000       0.0   \n75%    4.789668e+06      21.000000      21.000000       2.000000       0.0   \nmax    7.277125e+06      32.000000      32.000000       2.000000       0.0   \n\n       ENTIDAD_REGISTRO         ORIGEN         SECTOR           SEXO  \\\ncount     263007.000000  263007.000000  263007.000000  263007.000000   \nmean          15.092271       1.635789       9.601680       1.510682   \nstd            7.915406       0.481209       7.265468       0.499887   \nmin            1.000000       1.000000       1.000000       1.000000   \n25%            9.000000       1.000000       4.000000       1.000000   \n50%           15.000000       2.000000      12.000000       2.000000   \n75%           21.000000       2.000000      12.000000       2.000000   \nmax           32.000000       2.000000      99.000000       2.000000   \n\n         ENTIDAD_NAC  ...       INMUSUPR   HIPERTENSION       OTRA_COM  \\\ncount  263007.000000  ...  263007.000000  263007.000000  263007.000000   \nmean       19.691004  ...       2.359667       2.174185       2.453961   \nstd        19.378113  ...       6.021830       5.745114       6.850231   \nmin         1.000000  ...       1.000000       1.000000       1.000000   \n25%         9.000000  ...       2.000000       2.000000       2.000000   \n50%        15.000000  ...       2.000000       2.000000       2.000000   \n75%        24.000000  ...       2.000000       2.000000       2.000000   \nmax        99.000000  ...      98.000000      98.000000      98.000000   \n\n       CARDIOVASCULAR       OBESIDAD  RENAL_CRONICA     TABAQUISMO  \\\ncount   263007.000000  263007.000000  263007.000000  263007.000000   \nmean         2.324980       2.184763       2.320231       2.268217   \nstd          5.796086       5.817362       5.722995       5.867586   \nmin          1.000000       1.000000       1.000000       1.000000   \n25%          2.000000       2.000000       2.000000       2.000000   \n50%          2.000000       2.000000       2.000000       2.000000   \n75%          2.000000       2.000000       2.000000       2.000000   \nmax         98.000000      98.000000      98.000000      98.000000   \n\n           OTRO_CASO       MIGRANTE            UCI  \ncount  263007.000000  263007.000000  263007.000000  \nmean       32.283764      98.593680      74.541012  \nstd        45.350310       6.275497      40.384991  \nmin         1.000000       1.000000       1.000000  \n25%         1.000000      99.000000      97.000000  \n50%         2.000000      99.000000      97.000000  \n75%        99.000000      99.000000      97.000000  \nmax        99.000000      99.000000      99.000000  \n\n[8 rows x 31 columns]",
      "text/html": "<div>\n<style scoped>\n    .dataframe tbody tr th:only-of-type {\n        vertical-align: middle;\n    }\n\n    .dataframe tbody tr th {\n        vertical-align: top;\n    }\n\n    .dataframe thead th {\n        text-align: right;\n    }\n</style>\n<table border=\"1\" class=\"dataframe\">\n  <thead>\n    <tr style=\"text-align: right;\">\n      <th></th>\n      <th>id</th>\n      <th>ENTIDAD_UM</th>\n      <th>ENTIDAD_RES</th>\n      <th>RESULTADO</th>\n      <th>DELAY</th>\n      <th>ENTIDAD_REGISTRO</th>\n      <th>ORIGEN</th>\n      <th>SECTOR</th>\n      <th>SEXO</th>\n      <th>ENTIDAD_NAC</th>\n      <th>...</th>\n      <th>INMUSUPR</th>\n      <th>HIPERTENSION</th>\n      <th>OTRA_COM</th>\n      <th>CARDIOVASCULAR</th>\n      <th>OBESIDAD</th>\n      <th>RENAL_CRONICA</th>\n      <th>TABAQUISMO</th>\n      <th>OTRO_CASO</th>\n      <th>MIGRANTE</th>\n      <th>UCI</th>\n    </tr>\n  </thead>\n  <tbody>\n    <tr>\n      <th>count</th>\n      <td>2.630070e+05</td>\n      <td>263007.000000</td>\n      <td>263007.000000</td>\n      <td>263007.000000</td>\n      <td>263007.0</td>\n      <td>263007.000000</td>\n      <td>263007.000000</td>\n      <td>263007.000000</td>\n      <td>263007.000000</td>\n      <td>263007.000000</td>\n      <td>...</td>\n      <td>263007.000000</td>\n      <td>263007.000000</td>\n      <td>263007.000000</td>\n      <td>263007.000000</td>\n      <td>263007.000000</td>\n      <td>263007.000000</td>\n      <td>263007.000000</td>\n      <td>263007.000000</td>\n      <td>263007.000000</td>\n      <td>263007.000000</td>\n    </tr>\n    <tr>\n      <th>mean</th>\n      <td>2.946176e+06</td>\n      <td>14.844601</td>\n      <td>15.127719</td>\n      <td>1.609672</td>\n      <td>0.0</td>\n      <td>15.092271</td>\n      <td>1.635789</td>\n      <td>9.601680</td>\n      <td>1.510682</td>\n      <td>19.691004</td>\n      <td>...</td>\n      <td>2.359667</td>\n      <td>2.174185</td>\n      <td>2.453961</td>\n      <td>2.324980</td>\n      <td>2.184763</td>\n      <td>2.320231</td>\n      <td>2.268217</td>\n      <td>32.283764</td>\n      <td>98.593680</td>\n      <td>74.541012</td>\n    </tr>\n    <tr>\n      <th>std</th>\n      <td>2.212368e+06</td>\n      <td>8.001043</td>\n      <td>7.904314</td>\n      <td>0.487825</td>\n      <td>0.0</td>\n      <td>7.915406</td>\n      <td>0.481209</td>\n      <td>7.265468</td>\n      <td>0.499887</td>\n      <td>19.378113</td>\n      <td>...</td>\n      <td>6.021830</td>\n      <td>5.745114</td>\n      <td>6.850231</td>\n      <td>5.796086</td>\n      <td>5.817362</td>\n      <td>5.722995</td>\n      <td>5.867586</td>\n      <td>45.350310</td>\n      <td>6.275497</td>\n      <td>40.384991</td>\n    </tr>\n    <tr>\n      <th>min</th>\n      <td>1.000000e+00</td>\n      <td>1.000000</td>\n      <td>1.000000</td>\n      <td>1.000000</td>\n      <td>0.0</td>\n      <td>1.000000</td>\n      <td>1.000000</td>\n      <td>1.000000</td>\n      <td>1.000000</td>\n      <td>1.000000</td>\n      <td>...</td>\n      <td>1.000000</td>\n      <td>1.000000</td>\n      <td>1.000000</td>\n      <td>1.000000</td>\n      <td>1.000000</td>\n      <td>1.000000</td>\n      <td>1.000000</td>\n      <td>1.000000</td>\n      <td>1.000000</td>\n      <td>1.000000</td>\n    </tr>\n    <tr>\n      <th>25%</th>\n      <td>8.689635e+05</td>\n      <td>9.000000</td>\n      <td>9.000000</td>\n      <td>1.000000</td>\n      <td>0.0</td>\n      <td>9.000000</td>\n      <td>1.000000</td>\n      <td>4.000000</td>\n      <td>1.000000</td>\n      <td>9.000000</td>\n      <td>...</td>\n      <td>2.000000</td>\n      <td>2.000000</td>\n      <td>2.000000</td>\n      <td>2.000000</td>\n      <td>2.000000</td>\n      <td>2.000000</td>\n      <td>2.000000</td>\n      <td>1.000000</td>\n      <td>99.000000</td>\n      <td>97.000000</td>\n    </tr>\n    <tr>\n      <th>50%</th>\n      <td>2.733242e+06</td>\n      <td>14.000000</td>\n      <td>15.000000</td>\n      <td>2.000000</td>\n      <td>0.0</td>\n      <td>15.000000</td>\n      <td>2.000000</td>\n      <td>12.000000</td>\n      <td>2.000000</td>\n      <td>15.000000</td>\n      <td>...</td>\n      <td>2.000000</td>\n      <td>2.000000</td>\n      <td>2.000000</td>\n      <td>2.000000</td>\n      <td>2.000000</td>\n      <td>2.000000</td>\n      <td>2.000000</td>\n      <td>2.000000</td>\n      <td>99.000000</td>\n      <td>97.000000</td>\n    </tr>\n    <tr>\n      <th>75%</th>\n      <td>4.789668e+06</td>\n      <td>21.000000</td>\n      <td>21.000000</td>\n      <td>2.000000</td>\n      <td>0.0</td>\n      <td>21.000000</td>\n      <td>2.000000</td>\n      <td>12.000000</td>\n      <td>2.000000</td>\n      <td>24.000000</td>\n      <td>...</td>\n      <td>2.000000</td>\n      <td>2.000000</td>\n      <td>2.000000</td>\n      <td>2.000000</td>\n      <td>2.000000</td>\n      <td>2.000000</td>\n      <td>2.000000</td>\n      <td>99.000000</td>\n      <td>99.000000</td>\n      <td>97.000000</td>\n    </tr>\n    <tr>\n      <th>max</th>\n      <td>7.277125e+06</td>\n      <td>32.000000</td>\n      <td>32.000000</td>\n      <td>2.000000</td>\n      <td>0.0</td>\n      <td>32.000000</td>\n      <td>2.000000</td>\n      <td>99.000000</td>\n      <td>2.000000</td>\n      <td>99.000000</td>\n      <td>...</td>\n      <td>98.000000</td>\n      <td>98.000000</td>\n      <td>98.000000</td>\n      <td>98.000000</td>\n      <td>98.000000</td>\n      <td>98.000000</td>\n      <td>98.000000</td>\n      <td>99.000000</td>\n      <td>99.000000</td>\n      <td>99.000000</td>\n    </tr>\n  </tbody>\n</table>\n<p>8 rows × 31 columns</p>\n</div>"
     },
     "execution_count": 86,
     "metadata": {},
     "output_type": "execute_result"
    }
   ],
   "source": [
    "df.describe()"
   ],
   "metadata": {
    "collapsed": false,
    "ExecuteTime": {
     "end_time": "2024-06-03T19:04:00.206840Z",
     "start_time": "2024-06-03T19:03:59.420975Z"
    }
   },
   "id": "a8a377739ac09b77",
   "execution_count": 86
  },
  {
   "cell_type": "markdown",
   "source": [
    "## Visualización de los datos\n",
    "Usar técnicas de visualización como histogramas, gráficas de dispresión, gráficas de barras, diagramas de cajas, entre otros."
   ],
   "metadata": {
    "collapsed": false
   },
   "id": "ef20e820e8879438"
  },
  {
   "cell_type": "code",
   "outputs": [
    {
     "data": {
      "text/plain": "<Figure size 1700x200 with 1 Axes>",
      "image/png": "[encoded data removed]"
     },
     "metadata": {},
     "output_type": "display_data"
    }
   ],
   "source": [
    "plt.figure(figsize=(17,2))\n",
    "fechas_defunciones = list(dict(fecha_def.value_counts()).keys())\n",
    "conteo_defunciones = list(dict(fecha_def.value_counts()).values())\n",
    "plt.scatter(fechas_defunciones, conteo_defunciones)\n",
    "plt.grid()\n",
    "plt.title('Defunciones a lo largo del tiempo')\n",
    "plt.xlabel('Fecha')\n",
    "plt.ylabel('Conteo \\n defunciones')\n",
    "plt.show()"
   ],
   "metadata": {
    "collapsed": false,
    "ExecuteTime": {
     "end_time": "2024-06-03T18:49:29.983810Z",
     "start_time": "2024-06-03T18:49:29.732325Z"
    }
   },
   "id": "7a699e1e0e12e182",
   "execution_count": 85
  },
  {
   "cell_type": "code",
   "outputs": [
    {
     "data": {
      "text/plain": "[Timestamp('2020-05-18 00:00:00'),\n Timestamp('2020-05-25 00:00:00'),\n Timestamp('2020-05-17 00:00:00'),\n Timestamp('2020-05-24 00:00:00'),\n Timestamp('2020-05-27 00:00:00'),\n Timestamp('2020-05-13 00:00:00'),\n Timestamp('2020-05-04 00:00:00'),\n Timestamp('2020-05-19 00:00:00'),\n Timestamp('2020-05-14 00:00:00'),\n Timestamp('2020-05-22 00:00:00'),\n Timestamp('2020-05-11 00:00:00'),\n Timestamp('2020-05-23 00:00:00'),\n Timestamp('2020-05-26 00:00:00'),\n Timestamp('2020-05-15 00:00:00'),\n Timestamp('2020-05-16 00:00:00'),\n Timestamp('2020-05-06 00:00:00'),\n Timestamp('2020-05-21 00:00:00'),\n Timestamp('2020-05-12 00:00:00'),\n Timestamp('2020-05-10 00:00:00'),\n Timestamp('2020-05-09 00:00:00'),\n Timestamp('2020-05-20 00:00:00'),\n Timestamp('2020-05-05 00:00:00'),\n Timestamp('2020-05-07 00:00:00'),\n Timestamp('2020-05-30 00:00:00'),\n Timestamp('2020-04-28 00:00:00'),\n Timestamp('2020-05-02 00:00:00'),\n Timestamp('2020-05-28 00:00:00'),\n Timestamp('2020-04-07 00:00:00'),\n Timestamp('2020-04-26 00:00:00'),\n Timestamp('2020-05-01 00:00:00'),\n Timestamp('2020-04-25 00:00:00'),\n Timestamp('2020-04-21 00:00:00'),\n Timestamp('2020-04-27 00:00:00'),\n Timestamp('2020-05-08 00:00:00'),\n Timestamp('2020-04-30 00:00:00'),\n Timestamp('2020-04-29 00:00:00'),\n Timestamp('2020-04-19 00:00:00'),\n Timestamp('2020-04-24 00:00:00'),\n Timestamp('2020-04-20 00:00:00'),\n Timestamp('2020-05-03 00:00:00'),\n Timestamp('2020-04-06 00:00:00'),\n Timestamp('2020-04-22 00:00:00'),\n Timestamp('2020-04-23 00:00:00'),\n Timestamp('2020-03-31 00:00:00'),\n Timestamp('2020-05-31 00:00:00'),\n Timestamp('2020-05-29 00:00:00'),\n Timestamp('2020-04-15 00:00:00'),\n Timestamp('2020-04-16 00:00:00'),\n Timestamp('2020-04-14 00:00:00'),\n Timestamp('2020-04-09 00:00:00'),\n Timestamp('2020-06-01 00:00:00'),\n Timestamp('2020-04-12 00:00:00'),\n Timestamp('2020-04-10 00:00:00'),\n Timestamp('2020-04-03 00:00:00'),\n Timestamp('2020-04-04 00:00:00'),\n Timestamp('2020-04-08 00:00:00'),\n Timestamp('2020-04-18 00:00:00'),\n Timestamp('2020-04-11 00:00:00'),\n Timestamp('2020-04-02 00:00:00'),\n Timestamp('2020-04-17 00:00:00'),\n Timestamp('2020-04-13 00:00:00'),\n Timestamp('2020-04-05 00:00:00'),\n Timestamp('2020-03-30 00:00:00'),\n Timestamp('2020-04-01 00:00:00'),\n Timestamp('2020-03-28 00:00:00'),\n Timestamp('2020-03-27 00:00:00'),\n Timestamp('2020-03-29 00:00:00'),\n Timestamp('2020-03-26 00:00:00'),\n Timestamp('2020-03-25 00:00:00'),\n Timestamp('2020-06-02 00:00:00'),\n Timestamp('2020-03-24 00:00:00'),\n Timestamp('2020-06-03 00:00:00'),\n Timestamp('2020-03-22 00:00:00'),\n Timestamp('2020-03-18 00:00:00'),\n Timestamp('2020-03-23 00:00:00'),\n Timestamp('2020-03-21 00:00:00'),\n Timestamp('2020-02-28 00:00:00'),\n Timestamp('2020-02-23 00:00:00'),\n Timestamp('2020-01-13 00:00:00'),\n Timestamp('2020-03-20 00:00:00'),\n Timestamp('2020-03-09 00:00:00'),\n Timestamp('2020-03-17 00:00:00'),\n Timestamp('2020-01-11 00:00:00'),\n Timestamp('2020-02-10 00:00:00'),\n Timestamp('2020-01-29 00:00:00'),\n Timestamp('2020-01-15 00:00:00'),\n Timestamp('2020-02-20 00:00:00')]"
     },
     "execution_count": 79,
     "metadata": {},
     "output_type": "execute_result"
    }
   ],
   "source": [
    "fechas_defunciones"
   ],
   "metadata": {
    "collapsed": false,
    "ExecuteTime": {
     "end_time": "2024-06-03T18:48:13.589645Z",
     "start_time": "2024-06-03T18:48:13.555758Z"
    }
   },
   "id": "1445b9e1e112df42",
   "execution_count": 79
  },
  {
   "cell_type": "code",
   "outputs": [
    {
     "name": "stdout",
     "output_type": "stream",
     "text": [
      "<class 'pandas.core.frame.DataFrame'>\n",
      "RangeIndex: 263007 entries, 0 to 263006\n",
      "Data columns (total 39 columns):\n",
      " #   Column               Non-Null Count   Dtype         \n",
      "---  ------               --------------   -----         \n",
      " 0   FECHA_ARCHIVO        263007 non-null  datetime64[ns]\n",
      " 1   ENTIDAD_UM           263007 non-null  int64         \n",
      " 2   ENTIDAD_RES          263007 non-null  int64         \n",
      " 3   RESULTADO            263007 non-null  int64         \n",
      " 4   DELAY                263007 non-null  int64         \n",
      " 5   ENTIDAD_REGISTRO     263007 non-null  int64         \n",
      " 6   ENTIDAD              263007 non-null  object        \n",
      " 7   ABR_ENT              263007 non-null  object        \n",
      " 8   FECHA_ACTUALIZACION  263007 non-null  datetime64[ns]\n",
      " 9   ORIGEN               263007 non-null  int64         \n",
      " 10  SECTOR               263007 non-null  int64         \n",
      " 11  SEXO                 263007 non-null  int64         \n",
      " 12  ENTIDAD_NAC          263007 non-null  int64         \n",
      " 13  MUNICIPIO_RES        263001 non-null  float64       \n",
      " 14  TIPO_PACIENTE        263007 non-null  int64         \n",
      " 15  FECHA_INGRESO        263007 non-null  datetime64[ns]\n",
      " 16  FECHA_SINTOMAS       263007 non-null  datetime64[ns]\n",
      " 17  FECHA_DEF            263007 non-null  datetime64[ns]\n",
      " 18  INTUBADO             263007 non-null  int64         \n",
      " 19  NEUMONIA             263007 non-null  int64         \n",
      " 20  EDAD                 263007 non-null  int64         \n",
      " 21  NACIONALIDAD         263007 non-null  int64         \n",
      " 22  EMBARAZO             263007 non-null  int64         \n",
      " 23  HABLA_LENGUA_INDIG   263007 non-null  int64         \n",
      " 24  DIABETES             263007 non-null  int64         \n",
      " 25  EPOC                 263007 non-null  int64         \n",
      " 26  ASMA                 263007 non-null  int64         \n",
      " 27  INMUSUPR             263007 non-null  int64         \n",
      " 28  HIPERTENSION         263007 non-null  int64         \n",
      " 29  OTRA_COM             263007 non-null  int64         \n",
      " 30  CARDIOVASCULAR       263007 non-null  int64         \n",
      " 31  OBESIDAD             263007 non-null  int64         \n",
      " 32  RENAL_CRONICA        263007 non-null  int64         \n",
      " 33  TABAQUISMO           263007 non-null  int64         \n",
      " 34  OTRO_CASO            263007 non-null  int64         \n",
      " 35  MIGRANTE             263007 non-null  int64         \n",
      " 36  PAIS_NACIONALIDAD    263007 non-null  object        \n",
      " 37  PAIS_ORIGEN          263007 non-null  object        \n",
      " 38  UCI                  263007 non-null  int64         \n",
      "dtypes: datetime64[ns](5), float64(1), int64(29), object(4)\n",
      "memory usage: 78.3+ MB\n"
     ]
    }
   ],
   "source": [
    "df_remove_cols.info()"
   ],
   "metadata": {
    "collapsed": false,
    "ExecuteTime": {
     "end_time": "2024-06-03T19:06:06.249775Z",
     "start_time": "2024-06-03T19:06:06.111147Z"
    }
   },
   "id": "db88f56aeab5dc60",
   "execution_count": 88
  },
  {
   "cell_type": "markdown",
   "source": [
    "## Análisis de correlación\n",
    "Puede proporcionar información sobre posibles predicores importantes para un análisis posterior."
   ],
   "metadata": {
    "collapsed": false
   },
   "id": "55c25af8ff84a80c"
  },
  {
   "cell_type": "code",
   "outputs": [],
   "source": [],
   "metadata": {
    "collapsed": false
   },
   "id": "1b31eeac42b9aeb2"
  },
  {
   "cell_type": "markdown",
   "source": [
    "## Análisis de distribución de variables\n",
    "Examina la distribución de las variables en los datos para detectar sesgos o asimetrías."
   ],
   "metadata": {
    "collapsed": false
   },
   "id": "b120ec94bc572138"
  },
  {
   "cell_type": "code",
   "outputs": [],
   "source": [],
   "metadata": {
    "collapsed": false
   },
   "id": "3542734f92f0f21f"
  },
  {
   "cell_type": "markdown",
   "source": [
    "## Identificación de valores atípicos\n",
    "Detectar y analizar outliers y anomalías"
   ],
   "metadata": {
    "collapsed": false
   },
   "id": "aca66742bb8580af"
  },
  {
   "cell_type": "code",
   "outputs": [],
   "source": [],
   "metadata": {
    "collapsed": false
   },
   "id": "8cad49cdb5b280de"
  },
  {
   "cell_type": "markdown",
   "source": [
    "## Segmentación\n",
    "Dividir los datos en segmentos o grupos con características similares para analizar patrones específicos en elgrrupo. "
   ],
   "metadata": {
    "collapsed": false
   },
   "id": "6e75d5f8d322fcbf"
  },
  {
   "cell_type": "code",
   "outputs": [],
   "source": [],
   "metadata": {
    "collapsed": false
   },
   "id": "28868ec11c23b824"
  },
  {
   "cell_type": "markdown",
   "source": [
    "## Exploración de series temporales\n",
    "Si los datos tienen una dimensión temporal, realizar un análisis de series temporales para identificar tendencias, estacionalidades, y ciclos en los datos a lo largo del tiempo."
   ],
   "metadata": {
    "collapsed": false
   },
   "id": "4bed811a9c926d00"
  },
  {
   "cell_type": "code",
   "outputs": [],
   "source": [],
   "metadata": {
    "collapsed": false
   },
   "id": "5e219f30454eb6da"
  },
  {
   "cell_type": "markdown",
   "source": [
    "# Modelado de datos"
   ],
   "metadata": {
    "collapsed": false
   },
   "id": "abe603941f13518"
  },
  {
   "cell_type": "markdown",
   "source": [],
   "metadata": {
    "collapsed": false
   },
   "id": "934400872c5d576"
  }
 ],
 "metadata": {
  "kernelspec": {
   "display_name": "Python 3",
   "language": "python",
   "name": "python3"
  },
  "language_info": {
   "codemirror_mode": {
    "name": "ipython",
    "version": 2
   },
   "file_extension": ".py",
   "mimetype": "text/x-python",
   "name": "python",
   "nbconvert_exporter": "python",
   "pygments_lexer": "ipython2",
   "version": "2.7.6"
  }
 },
 "nbformat": 4,
 "nbformat_minor": 5
}
